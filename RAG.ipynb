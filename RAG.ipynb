{
 "cells": [
  {
   "cell_type": "code",
   "id": "dcccaace4315033b",
   "metadata": {
    "ExecuteTime": {
     "end_time": "2024-07-12T09:20:34.064950Z",
     "start_time": "2024-07-12T09:20:32.602052Z"
    }
   },
   "source": [
    "import os\n",
    "from langchain.text_splitter import RecursiveCharacterTextSplitter\n",
    "from langchain_community.document_loaders import PyPDFLoader\n",
    "from langchain_community.vectorstores import Chroma\n",
    "from langchain_core.output_parsers import StrOutputParser\n",
    "from langchain_google_genai import ChatGoogleGenerativeAI\n",
    "from langchain_google_genai import GoogleGenerativeAIEmbeddings\n",
    "from langchain.prompts import ChatPromptTemplate\n",
    "from operator import itemgetter"
   ],
   "outputs": [],
   "execution_count": 1
  },
  {
   "cell_type": "code",
   "id": "830cb80299a8160a",
   "metadata": {
    "ExecuteTime": {
     "end_time": "2024-07-12T09:20:40.298413Z",
     "start_time": "2024-07-12T09:20:40.268469Z"
    }
   },
   "source": [
    "os.environ['LANGCHAIN_TRACING_V2'] = 'true'\n",
    "os.environ['LANGCHAIN_ENDPOINT'] = 'https://api.smith.langchain.com'\n",
    "os.environ['LANGCHAIN_API_KEY'] = '<REDACTED>'\n",
    "os.environ['GOOGLE_API_KEY'] = '<REDACTED>'"
   ],
   "outputs": [],
   "execution_count": 2
  },
  {
   "cell_type": "code",
   "id": "c1c6fab0f8f84923",
   "metadata": {
    "ExecuteTime": {
     "end_time": "2024-07-12T09:21:55.926175Z",
     "start_time": "2024-07-12T09:20:42.030392Z"
    }
   },
   "source": [
    "loader1 = PyPDFLoader(r'C:\\Users\\jaint\\CC-Task2-RAG\\SI Chronicles 23-24 Sem I.pdf')\n",
    "loader2 = PyPDFLoader(r'C:\\Users\\jaint\\CC-Task2-RAG\\Placement Chronicles 2023-24.pdf')\n",
    "pages = loader1.load()\n",
    "pages.extend(loader2.load())\n",
    "\n",
    "print(len(pages))"
   ],
   "outputs": [
    {
     "name": "stdout",
     "output_type": "stream",
     "text": [
      "226\n"
     ]
    }
   ],
   "execution_count": 3
  },
  {
   "cell_type": "code",
   "id": "3e2196048e9fc4d5",
   "metadata": {
    "ExecuteTime": {
     "end_time": "2024-07-12T09:24:17.762923Z",
     "start_time": "2024-07-12T09:23:39.747218Z"
    }
   },
   "source": [
    "text_splitter = RecursiveCharacterTextSplitter.from_tiktoken_encoder(chunk_size=800, chunk_overlap=50)\n",
    "splits = text_splitter.split_documents(pages)\n",
    "\n",
    "vectorstore = Chroma.from_documents(documents=splits, embedding=GoogleGenerativeAIEmbeddings(model=\"models/embedding-001\"))\n",
    "retriever = vectorstore.as_retriever(search_kwargs={\"k\": 10})\n",
    "\n",
    "llm = ChatGoogleGenerativeAI(model=\"gemini-1.5-pro\", temperature=0)"
   ],
   "outputs": [],
   "execution_count": 4
  },
  {
   "cell_type": "code",
   "id": "39392a9324ade1c4",
   "metadata": {
    "ExecuteTime": {
     "end_time": "2024-07-12T09:24:21.514893Z",
     "start_time": "2024-07-12T09:24:17.764907Z"
    }
   },
   "source": [
    "# Template for decomposing the question into five sub-questions\n",
    "template = \"\"\"You are a helpful assistant that generates multiple sub-questions related to an input question. \\n\n",
    "The goal is to break down the input into a set of sub-problems / sub-questions that can be answers in isolation. \\n\n",
    "Generate only the sub-problems using as little formatting as needed.\\n\n",
    "You must make them relevant from the perspective of a college student seeking help in securing placements. \\n\n",
    "Generate multiple sub-questions related to: {question} \\n\n",
    "Output (5 queries):\"\"\"\n",
    "prompt_decomposition = ChatPromptTemplate.from_template(template)\n",
    "\n",
    "generate_queries_decomposition = (prompt_decomposition | llm | StrOutputParser() | (lambda x: x.split(\"\\n\")))\n",
    "\n",
    "\n",
    "question = \"What do I need to do to secure a placement in the finance field?\"\n",
    "questions = generate_queries_decomposition.invoke({\"question\": question})\n",
    "\n",
    "questions = [q for q in questions if q]  # remove any empty strings\n",
    "print(questions)"
   ],
   "outputs": [
    {
     "name": "stdout",
     "output_type": "stream",
     "text": [
      "['What are the typical career paths in finance?', \"What skills are most in-demand for finance roles I'm interested in?\", 'How do I find internships or work experience relevant to finance?', 'How do I tailor my resume and cover letter for finance positions?', 'What are some common interview questions for finance roles? ']\n"
     ]
    }
   ],
   "execution_count": 5
  },
  {
   "metadata": {
    "ExecuteTime": {
     "end_time": "2024-07-12T09:28:48.391892Z",
     "start_time": "2024-07-12T09:26:54.957773Z"
    }
   },
   "cell_type": "code",
   "source": [
    "# Template to answer sub-questions. Context is retrieved using HyDE\n",
    "template = \"\"\"You are a helpful assistant that answers questions based on the following context: {context}\\n\n",
    "You must answer the questions from the perspective of a college student seeking help in securing placements. \\n\n",
    "Answer using as little formatting as possible.\\n\n",
    "Question: {question}\\n\"\"\"\n",
    "\n",
    "prompt = ChatPromptTemplate.from_template(template)\n",
    "\n",
    "def retrieve_and_rag(prompt_rag, sub_questions):\n",
    "    rag_results = []\n",
    "    \n",
    "    # Template to generate the hypothetical document\n",
    "    hyde_template = \"\"\"Please write a scientific paper passage to answer the question\n",
    "    Question: {question}\n",
    "    Passage:\"\"\"\n",
    "    prompt_hyde = ChatPromptTemplate.from_template(hyde_template)\n",
    "\n",
    "    for sub_question in sub_questions:\n",
    "        \n",
    "        retrieval_chain = prompt_hyde | llm | StrOutputParser() | retriever\n",
    "        retrieved_docs = retrieval_chain.invoke({\"question\": sub_question})\n",
    "        \n",
    "        ans_chain = prompt_rag | llm | StrOutputParser()\n",
    "        ans = ans_chain.invoke({\"context\": retrieved_docs, \"question\": sub_question})\n",
    "        rag_results.append(ans)\n",
    "\n",
    "    return rag_results\n",
    "\n",
    "\n",
    "answers = retrieve_and_rag(prompt, questions)\n",
    "# print(answers)\n",
    "\n",
    "def format_qa_pairs(questions, answers):\n",
    "\n",
    "    formatted_string = \"\"\n",
    "    for i, (question, answer) in enumerate(zip(questions, answers)):\n",
    "        formatted_string += f\"Question {i}: {question}\\nAnswer {i}: {answer}\\n\\n\"\n",
    "    return formatted_string.strip()\n",
    "\n",
    "\n",
    "context = format_qa_pairs(questions, answers)\n",
    "\n",
    "# Template to answer the main question, context is the previously answered sub-questions in the form of QA pairs\n",
    "template = \"\"\"Here is a set of Q+A pairs:\n",
    "\n",
    "{context}\n",
    "\n",
    "Use these to synthesize an answer to the question: {question}\n",
    "\"\"\"\n",
    "\n",
    "prompt = ChatPromptTemplate.from_template(template)\n",
    "\n",
    "final_rag_chain = (\n",
    "        prompt\n",
    "        | llm\n",
    "        | StrOutputParser()\n",
    ")\n",
    "\n",
    "print(final_rag_chain.invoke({\"context\": context, \"question\": question}))"
   ],
   "id": "8e8cc9f9804b6048",
   "outputs": [
    {
     "name": "stderr",
     "output_type": "stream",
     "text": [
      "Retrying langchain_google_genai.chat_models._chat_with_retry.<locals>._chat_with_retry in 2.0 seconds as it raised ResourceExhausted: 429 Resource has been exhausted (e.g. check quota)..\n",
      "Retrying langchain_google_genai.chat_models._chat_with_retry.<locals>._chat_with_retry in 4.0 seconds as it raised ResourceExhausted: 429 Resource has been exhausted (e.g. check quota)..\n",
      "Retrying langchain_google_genai.chat_models._chat_with_retry.<locals>._chat_with_retry in 2.0 seconds as it raised ResourceExhausted: 429 Resource has been exhausted (e.g. check quota)..\n",
      "Retrying langchain_google_genai.chat_models._chat_with_retry.<locals>._chat_with_retry in 4.0 seconds as it raised ResourceExhausted: 429 Resource has been exhausted (e.g. check quota)..\n",
      "Retrying langchain_google_genai.chat_models._chat_with_retry.<locals>._chat_with_retry in 8.0 seconds as it raised ResourceExhausted: 429 Resource has been exhausted (e.g. check quota)..\n"
     ]
    },
    {
     "name": "stdout",
     "output_type": "stream",
     "text": [
      "To secure a placement in the finance field, you need a multifaceted approach that combines strong academics, relevant skills, and strategic career planning:\n",
      "\n",
      "**1. Build a Strong Foundation in Finance:**\n",
      "\n",
      "* **Focus on Key Coursework:**  Prioritize courses like Derivatives and Risk Management, Financial Risk Analytics and Management, Securities Analysis and Portfolio Management, and Financial Management.  A strong understanding of these concepts is crucial.\n",
      "* **Supplement with a Finance Minor:** If your major isn't finance, consider a minor to demonstrate your commitment to the field.\n",
      "\n",
      "**2. Develop In-Demand Technical and Soft Skills:**\n",
      "\n",
      "* **Master Excel and SQL:** These tools are essential for data analysis in finance.\n",
      "* **Hone Your Quantitative Skills:**  Be comfortable applying quantitative concepts, especially from courses like derivatives and risk management.\n",
      "* **Stay Updated on Financial News:**  Regularly follow economic and financial news to demonstrate your interest and awareness of current events.\n",
      "\n",
      "**3. Gain Practical Experience:**\n",
      "\n",
      "* **Pursue Internships:**  Internships, even in related fields like data analytics or research consulting, provide valuable experience and make your candidacy much stronger.\n",
      "* **Highlight Relevant Projects:** If you've done independent research or projects related to finance, be sure to showcase them on your resume and be prepared to discuss them in detail.\n",
      "\n",
      "**4. Tailor Your Application Materials:**\n",
      "\n",
      "* **Craft a Targeted Resume and Cover Letter:**  Highlight relevant coursework, skills (Excel, SQL, quantitative methods), and experiences.  Quantify your achievements whenever possible.\n",
      "* **Connect Your Experiences to Finance:** Clearly articulate how your skills and experiences, even if not directly in finance, are transferable to the roles you're targeting.\n",
      "\n",
      "**5. Prepare for Interviews:**\n",
      "\n",
      "* **Review Basic Financial Concepts:** Be prepared to answer questions about derivatives, risk management, and quantitative finance.\n",
      "* **Practice Explaining Your Thought Process:** Interviewers often assess your decision-making abilities, so be ready to explain your reasoning, even in hypothetical scenarios.\n",
      "* **Research Potential Employers:**  Demonstrate your interest by learning about the company, its culture, and the specific role you're interviewing for. \n",
      "\n",
      "By following these steps, you'll be well-positioned to secure a placement in the competitive but rewarding field of finance. \n",
      "\n"
     ]
    }
   ],
   "execution_count": 6
  },
  {
   "cell_type": "code",
   "execution_count": null,
   "id": "16148af49d193d05",
   "metadata": {},
   "outputs": [],
   "source": []
  }
 ],
 "metadata": {
  "kernelspec": {
   "display_name": "Python 3",
   "language": "python",
   "name": "python3"
  },
  "language_info": {
   "codemirror_mode": {
    "name": "ipython",
    "version": 2
   },
   "file_extension": ".py",
   "mimetype": "text/x-python",
   "name": "python",
   "nbconvert_exporter": "python",
   "pygments_lexer": "ipython2",
   "version": "2.7.6"
  }
 },
 "nbformat": 4,
 "nbformat_minor": 5
}
